{
 "cells": [
  {
   "cell_type": "code",
   "execution_count": 1,
   "metadata": {},
   "outputs": [],
   "source": [
    "from selenium import webdriver\n",
    "import pandas as pd\n",
    "import numpy as np\n",
    "from bs4 import BeautifulSoup\n",
    "from selenium.webdriver.common.keys import Keys\n",
    "import time\n",
    "import lxml\n",
    "from pandas import DataFrame as df\n",
    "from selenium.webdriver.chrome.service import Service as ChromeService\n",
    "from webdriver_manager.chrome import ChromeDriverManager\n",
    "import pyvis"
   ]
  },
  {
   "cell_type": "code",
   "execution_count": 8,
   "metadata": {},
   "outputs": [],
   "source": [
    "def linkedin_scraper(company, role, scroll_time):\n",
    "    driver = webdriver.Chrome(service=ChromeService(ChromeDriverManager().install()))\n",
    "    \n",
    "    #sign in to your profile\n",
    "    driver.get('https://www.linkedin.com/uas/login?session_redirect=https%3A%2F%2Fwww%2Elinkedin%2Ecom%2Ffeed%2F&fromSignIn=true&trk=cold_join_sign_in')\n",
    "    #find username field\n",
    "    username = driver.find_element(\"id\", \"username\")\n",
    "    # Enter Your Email Address\n",
    "    username.send_keys(\"arjunkmrm@gmail.com\")  \n",
    "    # entering password\n",
    "    pword = driver.find_element(\"id\", \"password\")\n",
    "    # Enter Your Password\n",
    "    pword.send_keys(\"arjlinZ420713~~\")        \n",
    "    #click login button\n",
    "    driver.find_element(\"xpath\", \"//button[@type='submit']\").click()\n",
    "    \n",
    "    #go to target company\n",
    "    # Opening Kunal's Profile\n",
    "    # paste the URL of Kunal's profile here\n",
    "    profile_url = \"https://www.linkedin.com/company/\" + company + \"/people/\"\n",
    "    \n",
    "    driver.get(profile_url)        # this will open the link\n",
    "\n",
    "    filter = driver.find_element(\"xpath\", \"//*[@id='people-search-keywords']\")\n",
    "    #id=\"people-search-keywords\"\n",
    "    filter.send_keys(\"sustainability\")\n",
    "    filter.send_keys(Keys.RETURN)\n",
    "\n",
    "    start = time.time()\n",
    "  \n",
    "    # will be used in the while loop\n",
    "    initialScroll = 0\n",
    "    finalScroll = 1000\n",
    "    \n",
    "    while True:\n",
    "        driver.execute_script(f\"window.scrollTo({initialScroll}, {finalScroll})\")\n",
    "        # this command scrolls the window starting from\n",
    "        # the pixel value stored in the initialScroll \n",
    "        # variable to the pixel value stored at the\n",
    "        # finalScroll variable\n",
    "        initialScroll = finalScroll\n",
    "        finalScroll += 1000\n",
    "    \n",
    "        # we will stop the script for 3 seconds so that \n",
    "        # the data can load\n",
    "        time.sleep(3)\n",
    "        # You can change it as per your needs and internet speed\n",
    "    \n",
    "        end = time.time()\n",
    "    \n",
    "        # We will scroll for 20 seconds.\n",
    "        # You can change it as per your needs and internet speed\n",
    "        if round(end - start) > scroll_time:\n",
    "            break\n",
    "        \n",
    "    src = driver.page_source\n",
    "  \n",
    "    # Now using beautiful soup\n",
    "    soup = BeautifulSoup(src, 'lxml')\n",
    "\n",
    "    #sustainability related roles\n",
    "    sustainability_roles_html = soup.find_all(\n",
    "    'div', {'class': 'artdeco-entity-lockup__subtitle ember-view'})\n",
    "    sustainability_roles = []\n",
    "\n",
    "    #names\n",
    "    sustainability_names_html = soup.find_all(\n",
    "    'div', {'class': ['artdeco-entity-lockup__title ember-view']})\n",
    "    sustainability_names = []\n",
    "    \n",
    "    for role in sustainability_roles_html:\n",
    "        sustainability_roles.append(role.text.strip())\n",
    "\n",
    "    for name in sustainability_names_html:\n",
    "        sustainability_names.append(name.text.strip())\n",
    "\n",
    "    del sustainability_names[0]\n",
    "    \n",
    "    sust_df = df({'name':sustainability_names, 'role':sustainability_roles})\n",
    "    #names_df = df({'name':sustainability_names})\n",
    "    sust_df['company'] = company\n",
    "\n",
    "    return(sust_df)"
   ]
  },
  {
   "cell_type": "code",
   "execution_count": 10,
   "metadata": {},
   "outputs": [],
   "source": [
    "scb = linkedin_scraper('standardchartered', 'sustainability', 20)\n",
    "#bnpp = linkedin_scraper('bnp-paribas', 'sustainability', 150)\n",
    "#jpm = linkedin_scraper('jpmorganchase', 'sustainability', 150)\n",
    "#dbs = linkedin_scraper('dbs-bank', 'sustainability', 150)\n",
    "\n",
    "#roles_df = df()\n",
    "#roles_df = pd.concat([scb, bnpp, jpm])\n",
    "#roles_df\n",
    "\n"
   ]
  },
  {
   "cell_type": "code",
   "execution_count": null,
   "metadata": {},
   "outputs": [],
   "source": [
    "compression_opts = dict(method='zip', archive_name='roles.csv')\n",
    "#roles_df.to_csv('roles.csv', index=False)\n",
    "\n"
   ]
  }
 ],
 "metadata": {
  "kernelspec": {
   "display_name": "Python 3.9.10 ('linkedin_lib': venv)",
   "language": "python",
   "name": "python3"
  },
  "language_info": {
   "codemirror_mode": {
    "name": "ipython",
    "version": 3
   },
   "file_extension": ".py",
   "mimetype": "text/x-python",
   "name": "python",
   "nbconvert_exporter": "python",
   "pygments_lexer": "ipython3",
   "version": "3.9.10"
  },
  "orig_nbformat": 4,
  "vscode": {
   "interpreter": {
    "hash": "780bd32dc131dbdebb17899d949077cc280f6c8146fe2c583f065cc3040be83e"
   }
  }
 },
 "nbformat": 4,
 "nbformat_minor": 2
}
